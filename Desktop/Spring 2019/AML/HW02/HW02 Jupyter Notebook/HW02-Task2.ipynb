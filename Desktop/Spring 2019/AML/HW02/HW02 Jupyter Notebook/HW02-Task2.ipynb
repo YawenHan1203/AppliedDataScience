{
 "cells": [
  {
   "cell_type": "markdown",
   "metadata": {},
   "source": [
    "# Task 2 Classification on the Telco-churn dataset\n",
    "\n",
    "## Yawen Han (yh3069)"
   ]
  },
  {
   "cell_type": "code",
   "execution_count": 1,
   "metadata": {},
   "outputs": [],
   "source": [
    "import pandas as pd\n",
    "import numpy as np\n",
    "import matplotlib.pyplot as plt\n",
    "%matplotlib inline\n",
    "import warnings\n",
    "warnings.filterwarnings(\"ignore\")\n"
   ]
  },
  {
   "cell_type": "code",
   "execution_count": 2,
   "metadata": {},
   "outputs": [
    {
     "data": {
      "text/html": [
       "<div>\n",
       "<style scoped>\n",
       "    .dataframe tbody tr th:only-of-type {\n",
       "        vertical-align: middle;\n",
       "    }\n",
       "\n",
       "    .dataframe tbody tr th {\n",
       "        vertical-align: top;\n",
       "    }\n",
       "\n",
       "    .dataframe thead th {\n",
       "        text-align: right;\n",
       "    }\n",
       "</style>\n",
       "<table border=\"1\" class=\"dataframe\">\n",
       "  <thead>\n",
       "    <tr style=\"text-align: right;\">\n",
       "      <th></th>\n",
       "      <th>customerID</th>\n",
       "      <th>gender</th>\n",
       "      <th>SeniorCitizen</th>\n",
       "      <th>Partner</th>\n",
       "      <th>Dependents</th>\n",
       "      <th>tenure</th>\n",
       "      <th>PhoneService</th>\n",
       "      <th>MultipleLines</th>\n",
       "      <th>InternetService</th>\n",
       "      <th>OnlineSecurity</th>\n",
       "      <th>...</th>\n",
       "      <th>DeviceProtection</th>\n",
       "      <th>TechSupport</th>\n",
       "      <th>StreamingTV</th>\n",
       "      <th>StreamingMovies</th>\n",
       "      <th>Contract</th>\n",
       "      <th>PaperlessBilling</th>\n",
       "      <th>PaymentMethod</th>\n",
       "      <th>MonthlyCharges</th>\n",
       "      <th>TotalCharges</th>\n",
       "      <th>Churn</th>\n",
       "    </tr>\n",
       "  </thead>\n",
       "  <tbody>\n",
       "    <tr>\n",
       "      <th>0</th>\n",
       "      <td>7590-VHVEG</td>\n",
       "      <td>Female</td>\n",
       "      <td>0</td>\n",
       "      <td>Yes</td>\n",
       "      <td>No</td>\n",
       "      <td>1</td>\n",
       "      <td>No</td>\n",
       "      <td>No phone service</td>\n",
       "      <td>DSL</td>\n",
       "      <td>No</td>\n",
       "      <td>...</td>\n",
       "      <td>No</td>\n",
       "      <td>No</td>\n",
       "      <td>No</td>\n",
       "      <td>No</td>\n",
       "      <td>Month-to-month</td>\n",
       "      <td>Yes</td>\n",
       "      <td>Electronic check</td>\n",
       "      <td>29.85</td>\n",
       "      <td>29.85</td>\n",
       "      <td>No</td>\n",
       "    </tr>\n",
       "    <tr>\n",
       "      <th>1</th>\n",
       "      <td>5575-GNVDE</td>\n",
       "      <td>Male</td>\n",
       "      <td>0</td>\n",
       "      <td>No</td>\n",
       "      <td>No</td>\n",
       "      <td>34</td>\n",
       "      <td>Yes</td>\n",
       "      <td>No</td>\n",
       "      <td>DSL</td>\n",
       "      <td>Yes</td>\n",
       "      <td>...</td>\n",
       "      <td>Yes</td>\n",
       "      <td>No</td>\n",
       "      <td>No</td>\n",
       "      <td>No</td>\n",
       "      <td>One year</td>\n",
       "      <td>No</td>\n",
       "      <td>Mailed check</td>\n",
       "      <td>56.95</td>\n",
       "      <td>1889.5</td>\n",
       "      <td>No</td>\n",
       "    </tr>\n",
       "    <tr>\n",
       "      <th>2</th>\n",
       "      <td>3668-QPYBK</td>\n",
       "      <td>Male</td>\n",
       "      <td>0</td>\n",
       "      <td>No</td>\n",
       "      <td>No</td>\n",
       "      <td>2</td>\n",
       "      <td>Yes</td>\n",
       "      <td>No</td>\n",
       "      <td>DSL</td>\n",
       "      <td>Yes</td>\n",
       "      <td>...</td>\n",
       "      <td>No</td>\n",
       "      <td>No</td>\n",
       "      <td>No</td>\n",
       "      <td>No</td>\n",
       "      <td>Month-to-month</td>\n",
       "      <td>Yes</td>\n",
       "      <td>Mailed check</td>\n",
       "      <td>53.85</td>\n",
       "      <td>108.15</td>\n",
       "      <td>Yes</td>\n",
       "    </tr>\n",
       "    <tr>\n",
       "      <th>3</th>\n",
       "      <td>7795-CFOCW</td>\n",
       "      <td>Male</td>\n",
       "      <td>0</td>\n",
       "      <td>No</td>\n",
       "      <td>No</td>\n",
       "      <td>45</td>\n",
       "      <td>No</td>\n",
       "      <td>No phone service</td>\n",
       "      <td>DSL</td>\n",
       "      <td>Yes</td>\n",
       "      <td>...</td>\n",
       "      <td>Yes</td>\n",
       "      <td>Yes</td>\n",
       "      <td>No</td>\n",
       "      <td>No</td>\n",
       "      <td>One year</td>\n",
       "      <td>No</td>\n",
       "      <td>Bank transfer (automatic)</td>\n",
       "      <td>42.30</td>\n",
       "      <td>1840.75</td>\n",
       "      <td>No</td>\n",
       "    </tr>\n",
       "    <tr>\n",
       "      <th>4</th>\n",
       "      <td>9237-HQITU</td>\n",
       "      <td>Female</td>\n",
       "      <td>0</td>\n",
       "      <td>No</td>\n",
       "      <td>No</td>\n",
       "      <td>2</td>\n",
       "      <td>Yes</td>\n",
       "      <td>No</td>\n",
       "      <td>Fiber optic</td>\n",
       "      <td>No</td>\n",
       "      <td>...</td>\n",
       "      <td>No</td>\n",
       "      <td>No</td>\n",
       "      <td>No</td>\n",
       "      <td>No</td>\n",
       "      <td>Month-to-month</td>\n",
       "      <td>Yes</td>\n",
       "      <td>Electronic check</td>\n",
       "      <td>70.70</td>\n",
       "      <td>151.65</td>\n",
       "      <td>Yes</td>\n",
       "    </tr>\n",
       "  </tbody>\n",
       "</table>\n",
       "<p>5 rows × 21 columns</p>\n",
       "</div>"
      ],
      "text/plain": [
       "   customerID  gender  SeniorCitizen Partner Dependents  tenure PhoneService  \\\n",
       "0  7590-VHVEG  Female              0     Yes         No       1           No   \n",
       "1  5575-GNVDE    Male              0      No         No      34          Yes   \n",
       "2  3668-QPYBK    Male              0      No         No       2          Yes   \n",
       "3  7795-CFOCW    Male              0      No         No      45           No   \n",
       "4  9237-HQITU  Female              0      No         No       2          Yes   \n",
       "\n",
       "      MultipleLines InternetService OnlineSecurity  ...  DeviceProtection  \\\n",
       "0  No phone service             DSL             No  ...                No   \n",
       "1                No             DSL            Yes  ...               Yes   \n",
       "2                No             DSL            Yes  ...                No   \n",
       "3  No phone service             DSL            Yes  ...               Yes   \n",
       "4                No     Fiber optic             No  ...                No   \n",
       "\n",
       "  TechSupport StreamingTV StreamingMovies        Contract PaperlessBilling  \\\n",
       "0          No          No              No  Month-to-month              Yes   \n",
       "1          No          No              No        One year               No   \n",
       "2          No          No              No  Month-to-month              Yes   \n",
       "3         Yes          No              No        One year               No   \n",
       "4          No          No              No  Month-to-month              Yes   \n",
       "\n",
       "               PaymentMethod MonthlyCharges  TotalCharges Churn  \n",
       "0           Electronic check          29.85         29.85    No  \n",
       "1               Mailed check          56.95        1889.5    No  \n",
       "2               Mailed check          53.85        108.15   Yes  \n",
       "3  Bank transfer (automatic)          42.30       1840.75    No  \n",
       "4           Electronic check          70.70        151.65   Yes  \n",
       "\n",
       "[5 rows x 21 columns]"
      ]
     },
     "execution_count": 2,
     "metadata": {},
     "output_type": "execute_result"
    }
   ],
   "source": [
    "#load dataset\n",
    "df = pd.read_csv(\"WA_Fn-UseC_-Telco-Customer-Churn.csv\")\n",
    "df.head()"
   ]
  },
  {
   "cell_type": "markdown",
   "metadata": {},
   "source": [
    "## Preprocess tha data"
   ]
  },
  {
   "cell_type": "code",
   "execution_count": 3,
   "metadata": {},
   "outputs": [],
   "source": [
    "#as customer ID is only a identifier, treat it as the index\n",
    "#to avoid the onhot-encoding later\n",
    "df=df.set_index(\"customerID\")\n",
    "#change two columns datatype: \"TotalCharges\", \"SeniorCitizen\"\n",
    "df[\"TotalCharges\"] = pd.to_numeric(df[\"TotalCharges\"], errors='coerce')\n",
    "df[\"SeniorCitizen\"] = df[\"SeniorCitizen\"].astype(str)\n"
   ]
  },
  {
   "cell_type": "markdown",
   "metadata": {},
   "source": [
    "As \"customerID\" is only a identifier with no contributing to the target, treat it as the index of the dataframe to avoid the onhot-encoding later. Change the feature \"TotalCharges\" to numerical datatype, and feature \"SeniorCitizen\" to categorical datatype for data explorations later."
   ]
  },
  {
   "cell_type": "markdown",
   "metadata": {},
   "source": [
    "## Question 2.1"
   ]
  },
  {
   "cell_type": "code",
   "execution_count": 4,
   "metadata": {},
   "outputs": [
    {
     "data": {
      "image/png": "[encoded data removed]",
      "text/plain": [
       "<Figure size 576x576 with 4 Axes>"
      ]
     },
     "metadata": {
      "needs_background": "light"
     },
     "output_type": "display_data"
    }
   ],
   "source": [
    "import seaborn as sns\n",
    "\n",
    "# univariate distribution plots\n",
    "fig = plt.figure(figsize=(8,8))\n",
    "count = 1\n",
    "for i,column in enumerate(df.columns):\n",
    "    #plot the histogram of all columns that are not object datatype\n",
    "    if df.dtypes[column] != np.object:\n",
    "        ax = fig.add_subplot(2, 2, count)\n",
    "        ax.set_title(\"Plot %d: Distribution of %s\" %(count,column))\n",
    "        ax.set_xlabel(column)\n",
    "        ax.set_ylabel(\"Frequency\")\n",
    "        ax.hist(df[column], edgecolor='black',bins=10,color=\"steelblue\")\n",
    "        #count for subplot\n",
    "        count+=1\n",
    "    #count plot for target\n",
    "    if column == \"Churn\":\n",
    "        ax = fig.add_subplot(2, 2, count)\n",
    "        sns.countplot(df[\"Churn\"],axes=ax,color=\"steelblue\",edgecolor='black')\n",
    "        ax.set_title(\"Plot %d: Countplot of %s\" %(count,column))\n",
    "\n",
    "_ = plt.tight_layout()\n",
    "plt.show()"
   ]
  },
  {
   "cell_type": "markdown",
   "metadata": {},
   "source": [
    "Plot 1~3 shows the distribution of each continuous features (**features that not a \"object\" datatype are considered to be continuous**). Plot 4 shows the distribution of the target-\"Churn\"."
   ]
  },
  {
   "cell_type": "markdown",
   "metadata": {},
   "source": [
    "## Question 2.2"
   ]
  },
  {
   "cell_type": "code",
   "execution_count": 5,
   "metadata": {},
   "outputs": [],
   "source": [
    "from sklearn.model_selection import train_test_split\n",
    "from sklearn.compose import ColumnTransformer\n",
    "from sklearn.preprocessing import OneHotEncoder\n",
    "from sklearn.model_selection import cross_val_score\n",
    "from sklearn.preprocessing import StandardScaler\n",
    "from sklearn.impute import SimpleImputer\n",
    "from sklearn.pipeline import Pipeline\n",
    "\n",
    "X = df.iloc[:,:-1]#features\n",
    "y = df.iloc[:,-1]#target-SalePrice\n",
    "#split data in training and test set\n",
    "X_train, X_test, y_train, y_test = train_test_split(X, y)\n"
   ]
  },
  {
   "cell_type": "code",
   "execution_count": 6,
   "metadata": {},
   "outputs": [],
   "source": [
    "#find categorical and numerical features\n",
    "categorical_features = X_train.loc[:,X_train.dtypes==np.object].columns.tolist()\n",
    "numerical_features = X_train.loc[:,X_train.dtypes!=np.object].columns.tolist()\n",
    "\n",
    "#Numerical features: handling missing value, scaler\n",
    "numerical_transformer_scaled = Pipeline(steps=[\n",
    "    ('imputer', SimpleImputer(strategy='median')),\n",
    "    ('scaler', StandardScaler())])\n",
    "#Numerical features: handling missing value\n",
    "numerical_transformer_unscaled = Pipeline(steps=[\n",
    "    ('imputer', SimpleImputer(strategy='median'))])\n",
    "#categorical features: one-hot encoding\n",
    "categorical_transformer = Pipeline(steps=[\n",
    "    ('onehot', OneHotEncoder(handle_unknown=\"ignore\",sparse=False))])\n",
    "#column transformer: scaled numerical & categorical\n",
    "preprocessor_scaled = ColumnTransformer(\n",
    "    transformers=[\n",
    "        ('num', numerical_transformer_scaled, numerical_features),\n",
    "        ('cat', categorical_transformer, categorical_features)])\n",
    "#column transformer: unscaled numerical & categorical\n",
    "preprocessor_unscaled = ColumnTransformer(\n",
    "    transformers=[\n",
    "        ('num', numerical_transformer_unscaled, numerical_features),\n",
    "        ('cat', categorical_transformer, categorical_features)])\n"
   ]
  },
  {
   "cell_type": "code",
   "execution_count": 7,
   "metadata": {},
   "outputs": [],
   "source": [
    "from sklearn.linear_model import LogisticRegression\n",
    "from sklearn.svm import LinearSVC\n",
    "from sklearn.neighbors import NearestCentroid\n",
    "import warnings\n",
    "warnings.filterwarnings(\"ignore\")\n",
    "\n",
    "\n",
    "#build Logistic Regression model\n",
    "lr_model_scaled = Pipeline(steps=[('preprocessor_scaled', preprocessor_scaled),('lr', LogisticRegression())])\n",
    "lr_model_unscaled = Pipeline(steps=[('preprocessor_unscaled', preprocessor_unscaled),('lr', LogisticRegression())])\n",
    "#build Linear SVM model\n",
    "svm_model_scaled = Pipeline(steps=[('preprocessor_scaled', preprocessor_scaled),('svm', LinearSVC())])\n",
    "svm_model_unscaled = Pipeline(steps=[('preprocessor_unscaled', preprocessor_unscaled),('svm', LinearSVC())])\n",
    "#build Nearest Centroid model\n",
    "nc_model_scaled = Pipeline(steps=[('preprocessor_scaled', preprocessor_scaled),('nc', NearestCentroid())])\n",
    "nc_model_unscaled = Pipeline(steps=[('preprocessor_unscaled', preprocessor_unscaled),('nc', NearestCentroid())])\n"
   ]
  },
  {
   "cell_type": "code",
   "execution_count": 8,
   "metadata": {},
   "outputs": [],
   "source": [
    "#Logistic Regression:compute scaled/unscaled scores\n",
    "lr_scores_scaled = cross_val_score(lr_model_scaled, X_train, y_train)\n",
    "lr_scores_unscaled = cross_val_score(lr_model_unscaled, X_train, y_train)\n",
    "#Linear SVM:compute scaled/unscaled scores\n",
    "svm_scores_scaled = cross_val_score(svm_model_scaled, X_train, y_train)\n",
    "svm_scores_unscaled = cross_val_score(svm_model_unscaled, X_train, y_train)\n",
    "#Nearest Centroid:compute scaled/unscaled scores\n",
    "nc_scores_scaled = cross_val_score(nc_model_scaled, X_train, y_train)\n",
    "nc_scores_unscaled = cross_val_score(nc_model_unscaled, X_train, y_train)\n"
   ]
  },
  {
   "cell_type": "code",
   "execution_count": 9,
   "metadata": {},
   "outputs": [
    {
     "data": {
      "text/html": [
       "<div>\n",
       "<style scoped>\n",
       "    .dataframe tbody tr th:only-of-type {\n",
       "        vertical-align: middle;\n",
       "    }\n",
       "\n",
       "    .dataframe tbody tr th {\n",
       "        vertical-align: top;\n",
       "    }\n",
       "\n",
       "    .dataframe thead th {\n",
       "        text-align: right;\n",
       "    }\n",
       "</style>\n",
       "<table border=\"1\" class=\"dataframe\">\n",
       "  <thead>\n",
       "    <tr style=\"text-align: right;\">\n",
       "      <th></th>\n",
       "      <th>LogisticRegression</th>\n",
       "      <th>LinearSVM</th>\n",
       "      <th>NearestCentroids</th>\n",
       "    </tr>\n",
       "    <tr>\n",
       "      <th>Option</th>\n",
       "      <th></th>\n",
       "      <th></th>\n",
       "      <th></th>\n",
       "    </tr>\n",
       "  </thead>\n",
       "  <tbody>\n",
       "    <tr>\n",
       "      <th>Scaled</th>\n",
       "      <td>0.808405</td>\n",
       "      <td>0.808595</td>\n",
       "      <td>0.735515</td>\n",
       "    </tr>\n",
       "    <tr>\n",
       "      <th>Unscaled</th>\n",
       "      <td>0.810488</td>\n",
       "      <td>0.762018</td>\n",
       "      <td>0.517228</td>\n",
       "    </tr>\n",
       "  </tbody>\n",
       "</table>\n",
       "</div>"
      ],
      "text/plain": [
       "          LogisticRegression  LinearSVM  NearestCentroids\n",
       "Option                                                   \n",
       "Scaled              0.808405   0.808595          0.735515\n",
       "Unscaled            0.810488   0.762018          0.517228"
      ]
     },
     "execution_count": 9,
     "metadata": {},
     "output_type": "execute_result"
    }
   ],
   "source": [
    "#show the mean scaled/unscaled score as a table\n",
    "scores = [['Scaled',np.mean(lr_scores_scaled),np.mean(svm_scores_scaled),np.mean(nc_scores_scaled)],\n",
    "        ['Unscaled',np.mean(lr_scores_unscaled),np.mean(svm_scores_unscaled),np.mean(nc_scores_unscaled)]]\n",
    "df_scores = pd.DataFrame(scores,columns=['Option','LogisticRegression','LinearSVM','NearestCentroids'])\n",
    "df_scores.set_index(\"Option\")"
   ]
  },
  {
   "cell_type": "markdown",
   "metadata": {},
   "source": [
    "From the table above, it is observed that the **Scaled** models has a higher cross-validation score compared to unscaled models. The \"Linear Support Vector Machine\" and \"Nearest Centroids\" have a great improvement on the score performence, while \"Logistic Regression\" does not have an obvious change on the score."
   ]
  },
  {
   "cell_type": "markdown",
   "metadata": {},
   "source": [
    "## Question 2.3"
   ]
  },
  {
   "cell_type": "code",
   "execution_count": 10,
   "metadata": {},
   "outputs": [],
   "source": [
    "from sklearn.model_selection import GridSearchCV\n",
    "\n",
    "#scaled X_train data\n",
    "fit_scaled = preprocessor_scaled.fit(X_train)\n",
    "X_scaled = fit_scaled.transform(X_train)\n",
    "#choice/range of C/shrink_threshold parameter\n",
    "c = np.logspace(-1,2,num=30)\n",
    "param_grid=[{'C': c},{'C': c},{'shrink_threshold': c}]"
   ]
  },
  {
   "cell_type": "code",
   "execution_count": 11,
   "metadata": {},
   "outputs": [
    {
     "data": {
      "image/png": "[encoded data removed]",
      "text/plain": [
       "<Figure size 432x432 with 1 Axes>"
      ]
     },
     "metadata": {
      "needs_background": "light"
     },
     "output_type": "display_data"
    }
   ],
   "source": [
    "coefficients = []\n",
    "#plot Score vs. params\n",
    "fig = plt.figure(figsize=(6,6))\n",
    "count = 0\n",
    "models = [LogisticRegression(),LinearSVC(),NearestCentroid()]\n",
    "model_name = [\"LogisticRegression\",\"LinearSVC\",\"NearestCentroid\"]\n",
    "para = [\"C\",\"C\",\"Shrink Threshold\"]\n",
    "#GridSearch the parameters for three models\n",
    "for model in models:\n",
    "    grid = GridSearchCV(model,param_grid=param_grid[count])\n",
    "    grid.fit(X_scaled, y_train)\n",
    "    #gridserach results\n",
    "    results = grid.cv_results_\n",
    "    plt.plot(c, results[\"mean_train_score\"],label=model_name[count])\n",
    "    plt.xscale(\"log\")\n",
    "    count += 1\n",
    "    #only store the coefficients for LogisticRegression and Linear SVM\n",
    "    if count < 3:\n",
    "        #best model coefficients \n",
    "        coefficients.append(grid.best_estimator_.coef_)        \n",
    "plt.title(\"Cross-validation Scores vs.Paras\")\n",
    "plt.xlabel(\"C/ShrinkThreshold\")\n",
    "plt.ylabel(\"Cross-validation Scores\")        \n",
    "plt.tight_layout()\n",
    "plt.legend()\n",
    "plt.show()"
   ]
  },
  {
   "cell_type": "markdown",
   "metadata": {},
   "source": [
    "Tune the parameter for all three models using the sclaed dataset we got from Question 2.2: \n",
    "1. The cross-validation score of \"Logistic Regression\" model do not have obvious change when tuning the parameter C.It always has a high score;\n",
    "2. The cross-validation score of \"Linear Support Vector Machine\" model do not have obvious change when the tuning parameter C smaller than 10, but it decreases as C grows when C greater than 10;\n",
    "3. The cross-validation score of \"Nearest Centroid\" model decrease as the tuning parameter ShrinkThreshold grows when smaller than 10, but it increase back as ShrinkThreshold grows when greater than 10."
   ]
  },
  {
   "cell_type": "markdown",
   "metadata": {},
   "source": [
    "## Question 2.4"
   ]
  },
  {
   "cell_type": "code",
   "execution_count": 12,
   "metadata": {},
   "outputs": [],
   "source": [
    "from sklearn.model_selection import KFold\n",
    "from sklearn.model_selection import StratifiedKFold"
   ]
  },
  {
   "cell_type": "code",
   "execution_count": 13,
   "metadata": {},
   "outputs": [],
   "source": [
    "#define a function compare_param that gridsearch params for all three models\n",
    "#then output the best parameters for three models\n",
    "def compare_param(cv):\n",
    "    best_para = []\n",
    "    #Gridsearch the parameters for all three models\n",
    "    for (i,model) in enumerate(models):\n",
    "        grid = GridSearchCV(model,param_grid=param_grid[i],cv=cv)\n",
    "        grid.fit(X_scaled, y_train)\n",
    "        #gridserach results-best parameter\n",
    "        best_para.append(grid.best_params_)\n",
    "    return best_para\n",
    "    \n"
   ]
  },
  {
   "cell_type": "code",
   "execution_count": 14,
   "metadata": {},
   "outputs": [],
   "source": [
    "#best params of three models for (KFold,random_state=0)\n",
    "kf_rs0 = compare_param(cv=KFold(n_splits=5,shuffle=True,random_state=0)) \n",
    "#best params of three models for (KFold,random_state=1)\n",
    "kf_rs1 = compare_param(cv=KFold(n_splits=5,shuffle=True,random_state=1)) \n",
    "#best params of three models for (StratifiedKFold,random_state=0)\n",
    "skf_rs0 = compare_param(cv=StratifiedKFold(n_splits=5,shuffle=True,random_state=0)) \n",
    "#best params of three models for (StratifiedKFold,random_state=1)\n",
    "skf_rs1 = compare_param(cv=StratifiedKFold(n_splits=5,shuffle=True,random_state=1)) \n"
   ]
  },
  {
   "cell_type": "code",
   "execution_count": 15,
   "metadata": {},
   "outputs": [],
   "source": [
    "#define function best_para that show the best_parameter matrix\n",
    "#for the given model\n",
    "def best_para(model_index,parameter):\n",
    "    \n",
    "    #show the mean scaled/unscaled score as a table\n",
    "    best_para_df = [['KFold',kf_rs0[model_index][parameter],kf_rs1[model_index][parameter]],\n",
    "        ['StratifiedKFold',skf_rs0[model_index][parameter],skf_rs1[model_index][parameter]]]\n",
    "    best_para_df = pd.DataFrame(best_para_df,columns=['%s: %s'%(model_name[model_index],para[model_index]),'RandomState=0','RandomState=1'])\n",
    "    best_para_df = best_para_df.set_index('%s: %s'%(model_name[model_index],para[model_index]))\n",
    "    return best_para_df\n"
   ]
  },
  {
   "cell_type": "code",
   "execution_count": 16,
   "metadata": {},
   "outputs": [
    {
     "data": {
      "text/html": [
       "<div>\n",
       "<style scoped>\n",
       "    .dataframe tbody tr th:only-of-type {\n",
       "        vertical-align: middle;\n",
       "    }\n",
       "\n",
       "    .dataframe tbody tr th {\n",
       "        vertical-align: top;\n",
       "    }\n",
       "\n",
       "    .dataframe thead th {\n",
       "        text-align: right;\n",
       "    }\n",
       "</style>\n",
       "<table border=\"1\" class=\"dataframe\">\n",
       "  <thead>\n",
       "    <tr style=\"text-align: right;\">\n",
       "      <th></th>\n",
       "      <th>RandomState=0</th>\n",
       "      <th>RandomState=1</th>\n",
       "    </tr>\n",
       "    <tr>\n",
       "      <th>LogisticRegression: C</th>\n",
       "      <th></th>\n",
       "      <th></th>\n",
       "    </tr>\n",
       "  </thead>\n",
       "  <tbody>\n",
       "    <tr>\n",
       "      <th>KFold</th>\n",
       "      <td>23.950266</td>\n",
       "      <td>0.259294</td>\n",
       "    </tr>\n",
       "    <tr>\n",
       "      <th>StratifiedKFold</th>\n",
       "      <td>18.873918</td>\n",
       "      <td>0.259294</td>\n",
       "    </tr>\n",
       "  </tbody>\n",
       "</table>\n",
       "</div>"
      ],
      "text/plain": [
       "                       RandomState=0  RandomState=1\n",
       "LogisticRegression: C                              \n",
       "KFold                      23.950266       0.259294\n",
       "StratifiedKFold            18.873918       0.259294"
      ]
     },
     "execution_count": 16,
     "metadata": {},
     "output_type": "execute_result"
    }
   ],
   "source": [
    "#Logistic Regression Model: best parameter C \n",
    "#for differnet split method and random-state\n",
    "best_para(0,\"C\")"
   ]
  },
  {
   "cell_type": "markdown",
   "metadata": {},
   "source": [
    "Logistic Regression model:\n",
    "1. change cv strategy from \"StratifiedKFold\" to \"KFold\", the best paramenter C are found change;\n",
    "2. change the reandom state from 0 to 1, the best parameter C are also found change."
   ]
  },
  {
   "cell_type": "code",
   "execution_count": 17,
   "metadata": {},
   "outputs": [
    {
     "data": {
      "text/html": [
       "<div>\n",
       "<style scoped>\n",
       "    .dataframe tbody tr th:only-of-type {\n",
       "        vertical-align: middle;\n",
       "    }\n",
       "\n",
       "    .dataframe tbody tr th {\n",
       "        vertical-align: top;\n",
       "    }\n",
       "\n",
       "    .dataframe thead th {\n",
       "        text-align: right;\n",
       "    }\n",
       "</style>\n",
       "<table border=\"1\" class=\"dataframe\">\n",
       "  <thead>\n",
       "    <tr style=\"text-align: right;\">\n",
       "      <th></th>\n",
       "      <th>RandomState=0</th>\n",
       "      <th>RandomState=1</th>\n",
       "    </tr>\n",
       "    <tr>\n",
       "      <th>LinearSVC: C</th>\n",
       "      <th></th>\n",
       "      <th></th>\n",
       "    </tr>\n",
       "  </thead>\n",
       "  <tbody>\n",
       "    <tr>\n",
       "      <th>KFold</th>\n",
       "      <td>0.204336</td>\n",
       "      <td>4.520354</td>\n",
       "    </tr>\n",
       "    <tr>\n",
       "      <th>StratifiedKFold</th>\n",
       "      <td>7.278954</td>\n",
       "      <td>7.278954</td>\n",
       "    </tr>\n",
       "  </tbody>\n",
       "</table>\n",
       "</div>"
      ],
      "text/plain": [
       "                 RandomState=0  RandomState=1\n",
       "LinearSVC: C                                 \n",
       "KFold                 0.204336       4.520354\n",
       "StratifiedKFold       7.278954       7.278954"
      ]
     },
     "execution_count": 17,
     "metadata": {},
     "output_type": "execute_result"
    }
   ],
   "source": [
    "#Linear SVM Model: best parameter C \n",
    "#for differnet split method and random-state\n",
    "best_para(1,\"C\")"
   ]
  },
  {
   "cell_type": "markdown",
   "metadata": {},
   "source": [
    "Linear SVM model:\n",
    "1. change cv strategy from \"StratifiedKFold\" to \"KFold\", the best paramenter C are found change;\n",
    "2. change the reandom state from 0 to 1, the best parameter C are also found change."
   ]
  },
  {
   "cell_type": "code",
   "execution_count": 18,
   "metadata": {},
   "outputs": [
    {
     "data": {
      "text/html": [
       "<div>\n",
       "<style scoped>\n",
       "    .dataframe tbody tr th:only-of-type {\n",
       "        vertical-align: middle;\n",
       "    }\n",
       "\n",
       "    .dataframe tbody tr th {\n",
       "        vertical-align: top;\n",
       "    }\n",
       "\n",
       "    .dataframe thead th {\n",
       "        text-align: right;\n",
       "    }\n",
       "</style>\n",
       "<table border=\"1\" class=\"dataframe\">\n",
       "  <thead>\n",
       "    <tr style=\"text-align: right;\">\n",
       "      <th></th>\n",
       "      <th>RandomState=0</th>\n",
       "      <th>RandomState=1</th>\n",
       "    </tr>\n",
       "    <tr>\n",
       "      <th>NearestCentroid: Shrink Threshold</th>\n",
       "      <th></th>\n",
       "      <th></th>\n",
       "    </tr>\n",
       "  </thead>\n",
       "  <tbody>\n",
       "    <tr>\n",
       "      <th>KFold</th>\n",
       "      <td>18.873918</td>\n",
       "      <td>18.873918</td>\n",
       "    </tr>\n",
       "    <tr>\n",
       "      <th>StratifiedKFold</th>\n",
       "      <td>18.873918</td>\n",
       "      <td>18.873918</td>\n",
       "    </tr>\n",
       "  </tbody>\n",
       "</table>\n",
       "</div>"
      ],
      "text/plain": [
       "                                   RandomState=0  RandomState=1\n",
       "NearestCentroid: Shrink Threshold                              \n",
       "KFold                                  18.873918      18.873918\n",
       "StratifiedKFold                        18.873918      18.873918"
      ]
     },
     "execution_count": 18,
     "metadata": {},
     "output_type": "execute_result"
    }
   ],
   "source": [
    "#Nearest Centroid Model: best parameter shrink_threshold \n",
    "#for differnet split method and random-state\n",
    "best_para(2,\"shrink_threshold\")"
   ]
  },
  {
   "cell_type": "markdown",
   "metadata": {},
   "source": [
    "Nearest Centroid model:\n",
    "1. change cv strategy from \"StratifiedKFold\" to \"KFold\", the best paramenter shrink_threshold are not observed obvious change;\n",
    "2. change the reandom state from 0 to 1, the best paramenter shrink_threshold are not observed obvious change."
   ]
  },
  {
   "cell_type": "markdown",
   "metadata": {},
   "source": [
    "## Question 2.5"
   ]
  },
  {
   "cell_type": "code",
   "execution_count": 19,
   "metadata": {},
   "outputs": [],
   "source": [
    "#get the categorical column names after one-hot encoding\n",
    "#temp one-hot encoding used for finding column names\n",
    "preprocessor = ColumnTransformer(transformers=[('onehot', OneHotEncoder(handle_unknown=\"ignore\"), \n",
    "                                                categorical_features)])\n",
    "catg_ohe = preprocessor.fit(X_train).get_feature_names()\n",
    "catg_ohe = pd.DataFrame(catg_ohe)\n",
    "#remove the prefix \"onehot_\"\n",
    "catg_ohe = catg_ohe.applymap(lambda x: str(x).lstrip(\"onehot_\"))\n",
    "#replace prefix \"x0,x1,x2...\" as original column names\n",
    "for (i,name) in enumerate(categorical_features):\n",
    "    catg_ohe = catg_ohe.applymap(lambda x: str(x).replace(\"x\"+str(i),name))\n",
    "\n",
    "#the feature name list contaning all feature names \n",
    "ohe_feature_names = numerical_features + catg_ohe.iloc[:,0].tolist()\n"
   ]
  },
  {
   "cell_type": "code",
   "execution_count": 20,
   "metadata": {},
   "outputs": [],
   "source": [
    "#define plot_scatter function to plot feature coefficients vs. feature index\n",
    "def plot_scatter(i):\n",
    "    ax = fig.add_subplot(2, 2, 2*i+1)\n",
    "    ax.scatter(range(len(coefficients[0][0])), coefficients[i][0],c=np.sign(coefficients[i][0]), cmap=\"bwr_r\",alpha=0.5)\n",
    "    ax.set_title(\"%s: Coefficients vs. Features\"%model_name[i])\n",
    "    ax.set_xlabel(\"Features\")\n",
    "    ax.set_ylabel(\"Coefficients\")\n",
    "    ax.ticklabel_format(axis='y', style='sci',scilimits=(-2,2))"
   ]
  },
  {
   "cell_type": "code",
   "execution_count": 21,
   "metadata": {},
   "outputs": [],
   "source": [
    "#define plot_barh function to plot top10 absolute coefficients feature values\n",
    "def plot_barh(i):\n",
    "    ax = fig.add_subplot(2, 2, 2*i+2)\n",
    "    top10 = sorted([(abs(x),j) for (j,x) in enumerate(coefficients[i][0])],reverse=True)[:10]\n",
    "    val = []\n",
    "    top10_columns = []\n",
    "    for x in top10:    \n",
    "        #top10 coefficients\n",
    "        val.append(coefficients[i][0][x[1]])\n",
    "        #top10 column names\n",
    "        top10_columns.append(ohe_feature_names[x[1]])\n",
    "    #plot the top10coefficients horizontally\n",
    "    ax.barh(top10_columns[::-1],val[::-1])\n",
    "    ax.set_title(\"%s: Top10 Important Features\"%model_name[i])\n",
    "    ax.set_xlabel(\"Coefficients\")\n",
    "    ax.ticklabel_format(axis='x', style='sci',scilimits=(-2,2))\n",
    "    "
   ]
  },
  {
   "cell_type": "code",
   "execution_count": 22,
   "metadata": {},
   "outputs": [
    {
     "data": {
      "image/png": "[encoded data removed]",
      "text/plain": [
       "<Figure size 720x576 with 4 Axes>"
      ]
     },
     "metadata": {
      "needs_background": "light"
     },
     "output_type": "display_data"
    }
   ],
   "source": [
    "#plot scatterplots on left, bar charts on right for two models\n",
    "fig = plt.figure(figsize=(10,8))\n",
    "for i in range(2):\n",
    "    plot_scatter(i)\n",
    "    plot_barh(i)\n",
    "plt.tight_layout()\n",
    "plt.show()"
   ]
  },
  {
   "cell_type": "markdown",
   "metadata": {},
   "source": [
    "The scatter plots on the left shows the coefficients of each feature vs. their feature index. The horizontal bar charts on the right shows the top 10 features with absolute coefficients.\n",
    "\n",
    "Compared two scatter plots and bar plots above, \"Logistic Regression\" and \"Linear SVC\" have similar coefficients distribution, indicating they have some agreement on the coefficients importance. "
   ]
  },
  {
   "cell_type": "code",
   "execution_count": null,
   "metadata": {},
   "outputs": [],
   "source": []
  }
 ],
 "metadata": {
  "kernelspec": {
   "display_name": "python3",
   "language": "python",
   "name": "python3"
  },
  "language_info": {
   "codemirror_mode": {
    "name": "ipython",
    "version": 3
   },
   "file_extension": ".py",
   "mimetype": "text/x-python",
   "name": "python",
   "nbconvert_exporter": "python",
   "pygments_lexer": "ipython3",
   "version": "3.6.7"
  }
 },
 "nbformat": 4,
 "nbformat_minor": 2
}
